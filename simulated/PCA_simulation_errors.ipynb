{
 "cells": [
  {
   "cell_type": "code",
   "execution_count": 1,
   "metadata": {},
   "outputs": [],
   "source": [
    "import numpy as np\n",
    "import pandas as pd\n",
    "\n",
    "from scipy import linalg\n",
    "from scipy import sparse\n",
    "from scipy.sparse.linalg import svds\n",
    "#import ot\n",
    "import random\n",
    "import itertools\n",
    "import copy\n",
    "import time as time\n",
    "from matplotlib.pyplot import figure\n",
    "\n",
    "from tqdm import tqdm\n",
    "from sklearn.metrics import pairwise_distances\n",
    "from scipy.stats import sem\n",
    "from scipy.spatial.distance import pdist, squareform\n",
    "\n",
    "import matplotlib.pyplot as plt\n",
    "import matplotlib.ticker as mtick\n",
    "\n",
    "import warnings\n",
    "warnings.simplefilter(action='ignore', category=FutureWarning)"
   ]
  },
  {
   "cell_type": "markdown",
   "metadata": {},
   "source": [
    "# Functions "
   ]
  },
  {
   "cell_type": "markdown",
   "metadata": {
    "tags": []
   },
   "source": [
    "## General"
   ]
  },
  {
   "cell_type": "code",
   "execution_count": 2,
   "metadata": {},
   "outputs": [],
   "source": [
    "def signif(x, p):\n",
    "    x = np.asarray(x)\n",
    "    x_positive = np.where(np.isfinite(x) & (x != 0), np.abs(x), 10**(p-1))\n",
    "    mags = 10 ** (p - 1 - np.floor(np.log10(x_positive)))\n",
    "    return np.round(x * mags) / mags\n",
    "\n",
    "def flatten_list(l):\n",
    "    flat_list = [item for sublist in l for item in sublist]\n",
    "    return flat_list\n",
    "\n",
    "def check_symmetric(a, rtol=1e-05, atol=1e-08):\n",
    "    return np.allclose(a, a.T, rtol=rtol, atol=atol)\n",
    "\n",
    "def is_pos_def(x):\n",
    "    return np.all(np.linalg.eigvals(x) > 0)\n",
    "\n",
    "def reverse_dict(dic):\n",
    "    for r in dic.keys():\n",
    "        if not isinstance(dic[r], list):\n",
    "            dic[r] = [dic[r]]\n",
    "    inverse = { v: k for k, l in dic.items() for v in l }\n",
    "    return inverse"
   ]
  },
  {
   "cell_type": "markdown",
   "metadata": {},
   "source": [
    "## Wasserstein Dimension Selection"
   ]
  },
  {
   "cell_type": "code",
   "execution_count": 3,
   "metadata": {},
   "outputs": [],
   "source": [
    "def wasserstein_dim_select(Y, split = 0.5, rmax = 50):\n",
    "    n = Y.shape[0]\n",
    "    train = round(n * split)\n",
    "    rtry = int(np.min((train, rmax)))\n",
    "    if sparse.issparse(Y):\n",
    "        Y = Y.todense()\n",
    "    Ytrain = Y[:train,:]\n",
    "    Ytest = Y[train:n,:]\n",
    "    U, s, Vh = sparse.linalg.svds(Ytrain,k=rtry-1)\n",
    "    idx = s.argsort()[::-1] \n",
    "    s = s[idx]\n",
    "    Vh = Vh[idx,:]\n",
    "    ws = []\n",
    "    for r in tqdm(range(1,rtry+1)):\n",
    "        P = Vh.T[:,:r] @ Vh[:r,:]\n",
    "        Yproj = Ytrain @ P.T\n",
    "        n1 = Yproj.shape[0]\n",
    "        n2 = Ytest.shape[0]\n",
    "        M = ot.dist(Yproj,Ytest, metric='euclidean')\n",
    "        W1 = ot.emd2(np.repeat(1/n1,n1),np.repeat(1/n2,n2),M)\n",
    "        ws.append(W1)\n",
    "    return ws"
   ]
  },
  {
   "cell_type": "markdown",
   "metadata": {},
   "source": [
    "## PC Scores"
   ]
  },
  {
   "cell_type": "code",
   "execution_count": 4,
   "metadata": {},
   "outputs": [],
   "source": [
    "def pc_scores(X, r):\n",
    "    U, s, Vh = svds(X,k=r)\n",
    "    idx = s.argsort()[::-1]   \n",
    "    Vh = Vh[idx,:]\n",
    "    Y = X @ Vh.T\n",
    "    return Y\n",
    "\n",
    "def embed_cov(X, r):\n",
    "    if r == X.shape[0]:\n",
    "        U, s, Vh = np.linalg.svd(X, full_matrices=True)\n",
    "    else:\n",
    "        U, s, Vh = svds(X,k=r)\n",
    "    idx = s.argsort()[::-1]   \n",
    "    U = U[:,idx]\n",
    "    s = s[idx]\n",
    "    ## need to take square root as these are eigenvalues\n",
    "    Y = U @ np.diag(np.sqrt(s)) \n",
    "    return Y\n",
    "\n",
    "def inner_products(X):\n",
    "    return X.dot(X.T)"
   ]
  },
  {
   "cell_type": "markdown",
   "metadata": {
    "tags": []
   },
   "source": [
    "## Inner Product Hierarchical Clustering"
   ]
  },
  {
   "cell_type": "code",
   "execution_count": 5,
   "metadata": {},
   "outputs": [],
   "source": [
    "def find_rows_to_merge(F):\n",
    "    f = copy.deepcopy(F)\n",
    "    np.fill_diagonal(f, -np.inf)\n",
    "    idx = np.unravel_index(f.argmax(), f.shape)\n",
    "    return np.array(idx)\n",
    "\n",
    "def inner_products(X):\n",
    "    return X.dot(X.T)"
   ]
  },
  {
   "cell_type": "code",
   "execution_count": 6,
   "metadata": {},
   "outputs": [],
   "source": [
    "def clusters_to_labels(clusters):\n",
    "    d = defaultdict(list)\n",
    "    for index, sublist in enumerate(clusters):\n",
    "        for item in sublist:\n",
    "            d[item].append(index)\n",
    "    labels = flatten_list([d[c] for c in range(len(d.keys()))])\n",
    "    return labels"
   ]
  },
  {
   "cell_type": "code",
   "execution_count": 7,
   "metadata": {},
   "outputs": [],
   "source": [
    "# def ip_metric(X,Y):\n",
    "#     return  np.exp(-np.sum(X * Y))\n",
    "\n",
    "# def ip_affinity(X):\n",
    "#     return pairwise_distances(X, metric = ip_metric)\n",
    "\n",
    "def ip_metric(X,Y):\n",
    "    return  np.sum(X * Y)\n",
    "\n",
    "def ip_affinity(X):\n",
    "    ips = pairwise_distances(X, metric = ip_metric)\n",
    "    return np.max(ips) - ips"
   ]
  },
  {
   "cell_type": "markdown",
   "metadata": {},
   "source": [
    "## Simulate tree"
   ]
  },
  {
   "cell_type": "code",
   "execution_count": 8,
   "metadata": {},
   "outputs": [],
   "source": [
    "def find_tree_paths(observed_nodes, tree_dict):\n",
    "    if observed_nodes == 'leaf':\n",
    "        Z = np.array(list(set(tree_dict.keys()) - set(tree_dict.values())))\n",
    "    elif observed_nodes == 'all':\n",
    "        Z = np.array(list(set(list(tree_dict.keys()) + list(tree_dict.values()))))\n",
    "    else:\n",
    "        Z = np.array(observed_nodes)\n",
    "    origin_node = list(set(tree_dict.values()) - set(tree_dict.keys()))[0]\n",
    "    paths  = []\n",
    "    for z in Z:\n",
    "        path = [z]\n",
    "        if z == origin_node:\n",
    "            paths.append([z])\n",
    "        else:\n",
    "            while True:\n",
    "                parent_node =  tree_dict[path[-1]]\n",
    "                path = path + [parent_node]\n",
    "                if parent_node == origin_node:\n",
    "                    path.reverse()\n",
    "                    paths.append(path)\n",
    "                    break\n",
    "    return paths\n",
    "\n",
    "def make_tree_cov(paths,variance_dict, root_mean =0):\n",
    "    path_comb = list(itertools.product(paths, paths))\n",
    "    varis = []\n",
    "    for pair in path_comb:\n",
    "        inter = list(set(pair[0]).intersection(pair[1]))\n",
    "        var = np.sum([variance_dict[i] for i in inter])\n",
    "        varis.append(var)\n",
    "    F = np.array(varis).reshape((int(np.sqrt(len(varis))),int(np.sqrt(len(varis)))))\n",
    "    return F + root_mean**2"
   ]
  },
  {
   "cell_type": "code",
   "execution_count": 9,
   "metadata": {},
   "outputs": [],
   "source": [
    "## makes X (no added noise)\n",
    "def make_X_by_tree(observed_nodes, tree_dict,root_mean, variance_dict,n,p):\n",
    "    if observed_nodes == 'leaf':\n",
    "        Z = np.array(list(set(tree_dict.keys()) - set(tree_dict.values())))\n",
    "    elif observed_nodes == 'all':\n",
    "        Z = np.array(list(variance_dict.keys()))\n",
    "    else:\n",
    "        Z = np.array(observed_nodes)\n",
    "    zs = np.array(random.choices(Z, k=n)) # samples\n",
    "    origin_node = list(set(tree_dict.values()) - set(tree_dict.keys()))[0] # root node \n",
    "    paths  = find_tree_paths(Z, tree_dict)\n",
    "    path_comb = list(itertools.product(paths, paths))\n",
    "    nodes = list(variance_dict.keys())\n",
    "    sns = {no: np.random.normal(0, np.sqrt(variance_dict[no]), p) for no in list(set(nodes) - set([origin_node]))}\n",
    "    sns[origin_node] = np.random.normal(root_mean, np.sqrt(variance_dict[origin_node]), p)\n",
    "    mus = np.array([np.sum([sns[i] for i in path],axis = 0) for path in paths])\n",
    "    X = mus[zs-1]\n",
    "    labels = zs\n",
    "    return X, labels"
   ]
  },
  {
   "cell_type": "code",
   "execution_count": 10,
   "metadata": {},
   "outputs": [],
   "source": [
    "## makes Y with S*E noise \n",
    "def make_Y_by_tree(observed_nodes, tree_dict,root_mean, variance_dict, noise_dict, n,p):\n",
    "    if observed_nodes == 'leaf':\n",
    "        Z = np.array(list(set(tree_dict.keys()) - set(tree_dict.values())))\n",
    "    elif observed_nodes == 'all':\n",
    "        Z = np.array(list(variance_dict.keys()))\n",
    "    else:\n",
    "        Z = np.array(observed_nodes)\n",
    "    zs = np.array(random.choices(Z, k=n)) # samples\n",
    "    origin_node = list(set(tree_dict.values()) - set(tree_dict.keys()))[0] # root node \n",
    "    paths  = find_tree_paths(Z, tree_dict)\n",
    "    path_comb = list(itertools.product(paths, paths))\n",
    "    nodes = list(variance_dict.keys())\n",
    "    sns = {no: np.random.normal(0, np.sqrt(variance_dict[no]), p) for no in list(set(nodes) - set([origin_node]))}\n",
    "    sns[origin_node] = np.random.normal(root_mean, np.sqrt(variance_dict[origin_node]), p)\n",
    "    mus = np.array([np.sum([sns[i] for i in path],axis = 0) for path in paths])\n",
    "    X = mus[zs-1]\n",
    "    labels = zs\n",
    "    \n",
    "    s = noise_dict[next(iter(noise_dict))].shape[1]\n",
    "    SE = np.array([noise_dict[z] @  np.random.normal(0,sigma,s) for z in zs]) # multiple noise matrix by E_i\n",
    "    \n",
    "    Y = X + SE \n",
    "    return Y, labels"
   ]
  },
  {
   "cell_type": "markdown",
   "metadata": {},
   "source": [
    "# Generate data"
   ]
  },
  {
   "cell_type": "markdown",
   "metadata": {},
   "source": [
    "# inner product errors"
   ]
  },
  {
   "cell_type": "markdown",
   "metadata": {},
   "source": [
    "### tree structure"
   ]
  },
  {
   "cell_type": "code",
   "execution_count": 11,
   "metadata": {},
   "outputs": [],
   "source": [
    "sigma = 1\n",
    "root_mean = 0\n",
    "\n",
    "# defines the tree, 1:6 means 6 is a parent of 1 \n",
    "tree_dict = {1:6, 2:6, 3:6, 4:7, 5:7, 6:8, 7:8}\n",
    "\n",
    "# variance of each gaussian increment\n",
    "# 1:1 means the branch length between 1 and it's parent is 1\n",
    "variance_dict = {1: 5, 2: 2, 3: 2, 4: 0.5, 5: 7, 6: 2, 7: 1, 8: 1} \n",
    "\n",
    "# which vertices we have samples from\n",
    "realised_nodes = 'leaf'\n",
    "\n",
    "# number of simulations\n",
    "n_sim = 100"
   ]
  },
  {
   "cell_type": "markdown",
   "metadata": {},
   "source": [
    "### first scaling relationship"
   ]
  },
  {
   "cell_type": "code",
   "execution_count": 17,
   "metadata": {},
   "outputs": [
    {
     "name": "stderr",
     "output_type": "stream",
     "text": [
      "100%|██████████| 10/10 [00:18<00:00,  1.81s/it]\n"
     ]
    }
   ],
   "source": [
    "#n and p growing\n",
    "#ns = list(range(100, 1100, 100))\n",
    "#ps_arry = np.round(1+np.log(ns))\n",
    "#ps_arry = ps_arry - ps_arry.min() +10\n",
    "#ps = list(ps_arry)\n",
    "\n",
    "#n fixed and p growing\n",
    "#ps = list(range(100, 1100, 100))\n",
    "#ns = [10]*len(ps)\n",
    "\n",
    "#p fixed and n growing\n",
    "ns = list(range(100, 1100, 100))\n",
    "ps = [10]*len(ps)\n",
    "\n",
    "\n",
    "Ps = []\n",
    "Ns = []\n",
    "df = pd.DataFrame(columns = ['n', 'p', 'p/n', \n",
    "                   'off_diag_Y_error_max', 'off_diag_zeta_error_max', \n",
    "                   'off_diag_Y_se_max', 'off_diag_zeta_se_max', \n",
    "                   'off_diag_Y_error_average', 'off_diag_zeta_error_average',\n",
    "                  'off_diag_Y_se_average', 'off_diag_zeta_se_average',    \n",
    "                             ])\n",
    "\n",
    "\n",
    "\n",
    "\n",
    "F = make_tree_cov(find_tree_paths(realised_nodes, tree_dict), variance_dict,root_mean)\n",
    "\n",
    "centers = embed_cov(F,F.shape[0])\n",
    "\n",
    "for i in tqdm(range(len(ps))):\n",
    "        p = int(ps[i])\n",
    "        n = ns[i]\n",
    "        pairs = list(itertools.combinations(range(n),2))\n",
    "        \n",
    "        off_diag_Y_max_errors = []\n",
    "        off_diag_zeta_max_errors = []\n",
    "        off_diag_Y_average_errors = []\n",
    "        off_diag_zeta_average_errors = []\n",
    "        for i in range(n_sim):\n",
    "            X,labels = make_X_by_tree(realised_nodes, tree_dict,root_mean, variance_dict,n,p)\n",
    "            Y = X + np.random.normal(0,sigma,X.shape)\n",
    "               \n",
    "            Y_ips = (1/p)* Y @ Y.T\n",
    "            dim = len(list(set(labels)))\n",
    "            zeta =  p**-.5 * pc_scores(Y,dim)           \n",
    "            phi = centers[(labels-1)]\n",
    "            \n",
    "            F1 = phi @ phi.T \n",
    "            \n",
    "            zeta_ips = zeta @ zeta.T\n",
    "            \n",
    "            np.fill_diagonal(Y_ips, 0)\n",
    "            np.fill_diagonal(F1, 0)\n",
    "            np.fill_diagonal(zeta_ips, 0)\n",
    "            \n",
    "            off_diag_Y_max_errors.append(np.max(np.abs(Y_ips - F1)))\n",
    "            off_diag_zeta_max_errors.append(np.max(np.abs(zeta_ips - F1)))\n",
    "            \n",
    "            off_diag_Y_average_errors.append(np.mean(np.abs(Y_ips - F1)))\n",
    "            off_diag_zeta_average_errors.append(np.mean(np.abs(zeta_ips - F1)))\n",
    "            \n",
    "            \n",
    "        new_row = {'n': n, 'p': p , 'p/n': p/n, \n",
    "                \n",
    "                   'off_diag_Y_error_max':np.mean(off_diag_Y_max_errors), 'off_diag_zeta_error_max':np.mean(off_diag_zeta_max_errors), \n",
    "                   'off_diag_Y_se_max': sem(off_diag_Y_max_errors), 'off_diag_zeta_se_max': sem(off_diag_zeta_max_errors), \n",
    "                   'off_diag_Y_error_average':np.mean(off_diag_Y_average_errors), 'off_diag_zeta_error_average':np.mean(off_diag_zeta_average_errors),\n",
    "                  'off_diag_Y_se_average': sem(off_diag_Y_average_errors), 'off_diag_zeta_se_average': sem(off_diag_zeta_average_errors),\n",
    "                   \n",
    "                  \n",
    "                  }\n",
    "        df = pd.concat([df,pd.DataFrame(new_row, index=[0])]).reset_index(drop=True)"
   ]
  },
  {
   "cell_type": "code",
   "execution_count": 16,
   "metadata": {},
   "outputs": [],
   "source": [
    "df1 = df"
   ]
  },
  {
   "cell_type": "code",
   "execution_count": 14,
   "metadata": {},
   "outputs": [],
   "source": [
    "df_nconst_1 = df"
   ]
  },
  {
   "cell_type": "code",
   "execution_count": 18,
   "metadata": {},
   "outputs": [],
   "source": [
    "df_pconst_1 = df"
   ]
  },
  {
   "cell_type": "markdown",
   "metadata": {},
   "source": [
    "### second scaling relationship"
   ]
  },
  {
   "cell_type": "code",
   "execution_count": 24,
   "metadata": {},
   "outputs": [
    {
     "name": "stderr",
     "output_type": "stream",
     "text": [
      "100%|██████████| 10/10 [00:19<00:00,  1.98s/it]\n"
     ]
    }
   ],
   "source": [
    "#n and p both growing\n",
    "#ns = list(range(100, 1100, 100))\n",
    "#ps_arry = np.round(np.sqrt(ns))\n",
    "#ps_arry = ps_arry - ps_arry.min() +10\n",
    "#ps = list(ps_arry)\n",
    "\n",
    "#n fixed and p growing\n",
    "#ps = list(range(100, 1100, 100))\n",
    "#ns = [100]*len(ps)\n",
    "\n",
    "#p fixed and n growing\n",
    "ns = list(range(100, 1100, 100))\n",
    "ps = [100]*len(ps)\n",
    "\n",
    "\n",
    "\n",
    "Ps = []\n",
    "Ns = []\n",
    "df = pd.DataFrame(columns = ['n', 'p', 'p/n', \n",
    "                   'off_diag_Y_error_max', 'off_diag_zeta_error_max', \n",
    "                   'off_diag_Y_se_max', 'off_diag_zeta_se_max', \n",
    "                   'off_diag_Y_error_average', 'off_diag_zeta_error_average',\n",
    "                  'off_diag_Y_se_average', 'off_diag_zeta_se_average',    \n",
    "                             ])\n",
    "\n",
    "\n",
    "\n",
    "\n",
    "F = make_tree_cov(find_tree_paths(realised_nodes, tree_dict), variance_dict,root_mean)\n",
    "\n",
    "centers = embed_cov(F,F.shape[0])\n",
    "\n",
    "for i in tqdm(range(len(ps))):\n",
    "        p = int(ps[i])\n",
    "        n = ns[i]\n",
    "        pairs = list(itertools.combinations(range(n),2))\n",
    "        \n",
    "        off_diag_Y_max_errors = []\n",
    "        off_diag_zeta_max_errors = []\n",
    "        off_diag_Y_average_errors = []\n",
    "        off_diag_zeta_average_errors = []\n",
    "        for i in range(n_sim):\n",
    "            \n",
    "            X,labels = make_X_by_tree(realised_nodes, tree_dict,root_mean, variance_dict,n,p)\n",
    "            Y = X + np.random.normal(0,sigma,X.shape)\n",
    "                        \n",
    "            Y_ips = (1/p)* Y @ Y.T\n",
    "            dim = len(list(set(labels)))\n",
    "            zeta =  p**-.5 * pc_scores(Y,dim)\n",
    "            \n",
    "            phi = centers[(labels-1)]\n",
    "            \n",
    "            F1 = phi @ phi.T \n",
    "            \n",
    "            zeta_ips = zeta @ zeta.T\n",
    "            \n",
    "            np.fill_diagonal(Y_ips, 0)\n",
    "            np.fill_diagonal(F1, 0)\n",
    "            np.fill_diagonal(zeta_ips, 0)\n",
    "            \n",
    "            off_diag_Y_max_errors.append(np.max(np.abs(Y_ips - F1)))\n",
    "            off_diag_zeta_max_errors.append(np.max(np.abs(zeta_ips - F1)))\n",
    "            \n",
    "            off_diag_Y_average_errors.append(np.mean(np.abs(Y_ips - F1)))\n",
    "            off_diag_zeta_average_errors.append(np.mean(np.abs(zeta_ips - F1)))\n",
    "            \n",
    "            \n",
    "        new_row = {'n': n, 'p': p , 'p/n': p/n, \n",
    "                \n",
    "                   'off_diag_Y_error_max':np.mean(off_diag_Y_max_errors), 'off_diag_zeta_error_max':np.mean(off_diag_zeta_max_errors), \n",
    "                   'off_diag_Y_se_max': sem(off_diag_Y_max_errors), 'off_diag_zeta_se_max': sem(off_diag_zeta_max_errors), \n",
    "                   'off_diag_Y_error_average':np.mean(off_diag_Y_average_errors), 'off_diag_zeta_error_average':np.mean(off_diag_zeta_average_errors),\n",
    "                  'off_diag_Y_se_average': sem(off_diag_Y_average_errors), 'off_diag_zeta_se_average': sem(off_diag_zeta_average_errors),\n",
    "                   \n",
    "                  \n",
    "                  }\n",
    "        df = pd.concat([df,pd.DataFrame(new_row, index=[0])]).reset_index(drop=True)"
   ]
  },
  {
   "cell_type": "code",
   "execution_count": 21,
   "metadata": {},
   "outputs": [],
   "source": [
    "df2 = df"
   ]
  },
  {
   "cell_type": "code",
   "execution_count": 23,
   "metadata": {},
   "outputs": [],
   "source": [
    "df_nconst_2 = df"
   ]
  },
  {
   "cell_type": "code",
   "execution_count": 25,
   "metadata": {},
   "outputs": [],
   "source": [
    "df_pconst_2 = df"
   ]
  },
  {
   "cell_type": "markdown",
   "metadata": {},
   "source": [
    "### third scaling relationship"
   ]
  },
  {
   "cell_type": "code",
   "execution_count": 30,
   "metadata": {},
   "outputs": [
    {
     "name": "stderr",
     "output_type": "stream",
     "text": [
      "100%|██████████| 10/10 [00:50<00:00,  5.00s/it]\n"
     ]
    }
   ],
   "source": [
    "#n and p both growin\n",
    "#ns = list(range(100, 1100, 100))\n",
    "#ps_arry = np.round(ns/np.round(np.log(ns)))\n",
    "#ps_arry = ps_arry - ps_arry.min() +10\n",
    "#ps = list(ps_arry)\n",
    "\n",
    "#n fixed and p growing\n",
    "#ps = list(range(100, 1100, 100))\n",
    "#ns = [1000]*len(ps)\n",
    "\n",
    "#p fixed and n growing\n",
    "ns = list(range(100, 1100, 100))\n",
    "ps = [1000]*len(ps)\n",
    "\n",
    "\n",
    "\n",
    "Ps = []\n",
    "Ns = []\n",
    "df = pd.DataFrame(columns = ['n', 'p', 'p/n', \n",
    "                   'off_diag_Y_error_max', 'off_diag_zeta_error_max', \n",
    "                   'off_diag_Y_se_max', 'off_diag_zeta_se_max', \n",
    "                   'off_diag_Y_error_average', 'off_diag_zeta_error_average',\n",
    "                  'off_diag_Y_se_average', 'off_diag_zeta_se_average',    \n",
    "                             ])\n",
    "\n",
    "\n",
    "\n",
    "\n",
    "F = make_tree_cov(find_tree_paths(realised_nodes, tree_dict), variance_dict,root_mean)\n",
    "centers = embed_cov(F,F.shape[0])\n",
    "\n",
    "\n",
    "for i in tqdm(range(len(ps))):\n",
    "        p = int(ps[i])\n",
    "        n = ns[i]\n",
    "        pairs = list(itertools.combinations(range(n),2))\n",
    "        \n",
    "        off_diag_Y_max_errors = []\n",
    "        off_diag_zeta_max_errors = []\n",
    "        off_diag_Y_average_errors = []\n",
    "        off_diag_zeta_average_errors = []\n",
    "        for i in range(n_sim):\n",
    "            X,labels = make_X_by_tree(realised_nodes, tree_dict,root_mean, variance_dict,n,p)\n",
    "            Y = X + np.random.normal(0,sigma,X.shape)            \n",
    "            \n",
    "            Y_ips = (1/p)* Y @ Y.T\n",
    "            dim = len(list(set(labels)))\n",
    "            zeta =  p**-.5 * pc_scores(Y,dim)\n",
    "            \n",
    "            phi = centers[(labels-1)]\n",
    "            \n",
    "            F1 = phi @ phi.T \n",
    "            \n",
    "            zeta_ips = zeta @ zeta.T\n",
    "            \n",
    "            np.fill_diagonal(Y_ips, 0)\n",
    "            np.fill_diagonal(F1, 0)\n",
    "            np.fill_diagonal(zeta_ips, 0)\n",
    "            \n",
    "            off_diag_Y_max_errors.append(np.max(np.abs(Y_ips - F1)))\n",
    "            off_diag_zeta_max_errors.append(np.max(np.abs(zeta_ips - F1)))\n",
    "            \n",
    "            off_diag_Y_average_errors.append(np.mean(np.abs(Y_ips - F1)))\n",
    "            off_diag_zeta_average_errors.append(np.mean(np.abs(zeta_ips - F1)))\n",
    "            \n",
    "            \n",
    "        new_row = {'n': n, 'p': p , 'p/n': p/n, \n",
    "                \n",
    "                   'off_diag_Y_error_max':np.mean(off_diag_Y_max_errors), 'off_diag_zeta_error_max':np.mean(off_diag_zeta_max_errors), \n",
    "                   'off_diag_Y_se_max': sem(off_diag_Y_max_errors), 'off_diag_zeta_se_max': sem(off_diag_zeta_max_errors), \n",
    "                   'off_diag_Y_error_average':np.mean(off_diag_Y_average_errors), 'off_diag_zeta_error_average':np.mean(off_diag_zeta_average_errors),\n",
    "                  'off_diag_Y_se_average': sem(off_diag_Y_average_errors), 'off_diag_zeta_se_average': sem(off_diag_zeta_average_errors),\n",
    "                   \n",
    "                  }\n",
    "        df = pd.concat([df,pd.DataFrame(new_row, index=[0])]).reset_index(drop=True)"
   ]
  },
  {
   "cell_type": "code",
   "execution_count": 27,
   "metadata": {},
   "outputs": [],
   "source": [
    "df3 = df"
   ]
  },
  {
   "cell_type": "code",
   "execution_count": 29,
   "metadata": {},
   "outputs": [],
   "source": [
    "df_nconst_3 = df"
   ]
  },
  {
   "cell_type": "code",
   "execution_count": 31,
   "metadata": {},
   "outputs": [],
   "source": [
    "df_pconst_3 = df"
   ]
  },
  {
   "cell_type": "markdown",
   "metadata": {},
   "source": [
    "### fourth scaling relationship"
   ]
  },
  {
   "cell_type": "code",
   "execution_count": 32,
   "metadata": {},
   "outputs": [
    {
     "name": "stderr",
     "output_type": "stream",
     "text": [
      "100%|██████████| 10/10 [00:39<00:00,  3.99s/it]\n"
     ]
    }
   ],
   "source": [
    "ns = list(range(100, 1100, 100))\n",
    "ps_arry = np.round(ns)\n",
    "ps_arry = ps_arry - ps_arry.min() +10\n",
    "ps = list(ps_arry)\n",
    "\n",
    "\n",
    "Ps = []\n",
    "Ns = []\n",
    "df = pd.DataFrame(columns = ['n', 'p', 'p/n', \n",
    "                   'off_diag_Y_error_max', 'off_diag_zeta_error_max', \n",
    "                   'off_diag_Y_se_max', 'off_diag_zeta_se_max', \n",
    "                   'off_diag_Y_error_average', 'off_diag_zeta_error_average',\n",
    "                  'off_diag_Y_se_average', 'off_diag_zeta_se_average',    \n",
    "                             ])\n",
    "\n",
    "\n",
    "F = make_tree_cov(find_tree_paths(realised_nodes, tree_dict), variance_dict,root_mean)\n",
    "centers = embed_cov(F,F.shape[0])\n",
    "\n",
    "\n",
    "for i in tqdm(range(len(ps))):\n",
    "        p = int(ps[i])\n",
    "        n = ns[i]\n",
    "        pairs = list(itertools.combinations(range(n),2))\n",
    "        \n",
    "        off_diag_Y_max_errors = []\n",
    "        off_diag_zeta_max_errors = []\n",
    "        off_diag_Y_average_errors = []\n",
    "        off_diag_zeta_average_errors = []\n",
    "        for i in range(n_sim):\n",
    "            X,labels = make_X_by_tree(realised_nodes, tree_dict,root_mean, variance_dict,n,p)\n",
    "            Y = X + np.random.normal(0,sigma,X.shape)            \n",
    "            \n",
    "            Y_ips = (1/p)* Y @ Y.T\n",
    "            dim = len(list(set(labels)))\n",
    "            zeta =  p**-.5 * pc_scores(Y,dim)\n",
    "            \n",
    "            phi = centers[(labels-1)]\n",
    "            \n",
    "            F1 = phi @ phi.T \n",
    "            \n",
    "            zeta_ips = zeta @ zeta.T\n",
    "            \n",
    "            np.fill_diagonal(Y_ips, 0)\n",
    "            np.fill_diagonal(F1, 0)\n",
    "            np.fill_diagonal(zeta_ips, 0)\n",
    "            \n",
    "            off_diag_Y_max_errors.append(np.max(np.abs(Y_ips - F1)))\n",
    "            off_diag_zeta_max_errors.append(np.max(np.abs(zeta_ips - F1)))\n",
    "            \n",
    "            off_diag_Y_average_errors.append(np.mean(np.abs(Y_ips - F1)))\n",
    "            off_diag_zeta_average_errors.append(np.mean(np.abs(zeta_ips - F1)))\n",
    "            \n",
    "            \n",
    "        new_row = {'n': n, 'p': p , 'p/n': p/n, \n",
    "                \n",
    "                   'off_diag_Y_error_max':np.mean(off_diag_Y_max_errors), 'off_diag_zeta_error_max':np.mean(off_diag_zeta_max_errors), \n",
    "                   'off_diag_Y_se_max': sem(off_diag_Y_max_errors), 'off_diag_zeta_se_max': sem(off_diag_zeta_max_errors), \n",
    "                   'off_diag_Y_error_average':np.mean(off_diag_Y_average_errors), 'off_diag_zeta_error_average':np.mean(off_diag_zeta_average_errors),\n",
    "                  'off_diag_Y_se_average': sem(off_diag_Y_average_errors), 'off_diag_zeta_se_average': sem(off_diag_zeta_average_errors),\n",
    "                   \n",
    "                  }\n",
    "        df = pd.concat([df,pd.DataFrame(new_row, index=[0])]).reset_index(drop=True)"
   ]
  },
  {
   "cell_type": "code",
   "execution_count": 34,
   "metadata": {},
   "outputs": [],
   "source": [
    "df4 = df"
   ]
  },
  {
   "cell_type": "markdown",
   "metadata": {},
   "source": [
    "### plotting"
   ]
  },
  {
   "cell_type": "code",
   "execution_count": 21,
   "metadata": {},
   "outputs": [
    {
     "data": {
      "image/png": "[encoded data removed]",
      "text/plain": [
       "<Figure size 1800x504 with 3 Axes>"
      ]
     },
     "metadata": {
      "needs_background": "light"
     },
     "output_type": "display_data"
    }
   ],
   "source": [
    "fig,ax = plt.subplots(1,3,figsize = (25,7))\n",
    "\n",
    "df_plot = df1\n",
    "ax[0].errorbar(df_plot['n'],df_plot['off_diag_Y_error_max'], yerr=2*df_plot['off_diag_Y_se_max'],fmt='-o',c='black')\n",
    "ax[0].errorbar(df_plot['n'],df_plot['off_diag_zeta_error_max'], yerr=2*df_plot['off_diag_zeta_se_max'],fmt='-o',c='red')\n",
    "\n",
    "df_plot = df2\n",
    "ax[0].errorbar(df_plot['n'],df_plot['off_diag_Y_error_max'], yerr=2*df_plot['off_diag_Y_se_max'],fmt='-o',c='black')\n",
    "ax[0].errorbar(df_plot['n'],df_plot['off_diag_zeta_error_max'], yerr=2*df_plot['off_diag_zeta_se_max'],fmt='-o',c='red')\n",
    "\n",
    "\n",
    "df_plot = df3\n",
    "ax[0].errorbar(df_plot['n'],df_plot['off_diag_Y_error_max'], yerr=2*df_plot['off_diag_Y_se_max'],fmt='-o',c='black')\n",
    "ax[0].errorbar(df_plot['n'],df_plot['off_diag_zeta_error_max'], yerr=2*df_plot['off_diag_zeta_se_max'],fmt='-o',c='red')\n",
    "\n",
    "\n",
    "df_plot = df4\n",
    "ax[0].errorbar(df_plot['n'],df_plot['off_diag_Y_error_max'], yerr=2*df_plot['off_diag_Y_se_max'],fmt='-o',c='black')\n",
    "ax[0].errorbar(df_plot['n'],df_plot['off_diag_zeta_error_max'], yerr=2*df_plot['off_diag_zeta_se_max'],fmt='-o',c='red')\n",
    "\n",
    "\n",
    "\n",
    "ax[0].set_yscale('log')\n",
    "ax[0].set_xlabel('$n$',fontsize = 34)\n",
    "ax[0].set_ylim(top = 15, bottom = 0.7)\n",
    "ax[0].set_ylabel('maximum error',fontsize = 30)\n",
    "ax[0].tick_params(axis='x', labelsize=28,pad=0)\n",
    "ax[0].tick_params(axis='y', labelsize=28,pad=0)\n",
    "ax[0].set_title(r'$p$ growing with $n$',fontsize =34)\n",
    "ax[0].grid(visible=True,which='both',axis='both')\n",
    "\n",
    "ax[0].text(x=760,y=11,s='$p\\sim\\log n$', fontsize = 25)\n",
    "ax[0].text(x=760,y=6.5,s='$p\\sim n^{1/2}$', fontsize = 25)\n",
    "ax[0].text(x=760,y=3.5,s='$p\\sim n/\\log n$', fontsize = 25)\n",
    "ax[0].text(x=760,y=1.4,s='$p\\sim n $', fontsize = 25)\n",
    "\n",
    "\n",
    "\n",
    "\n",
    "df_plot = df_nconst_1\n",
    "ax[2].errorbar(df_plot['p'],df_plot['off_diag_Y_error_max'], yerr=2*df_plot['off_diag_Y_se_max'],fmt='-o',c='black',label = r'$ \\hat{\\alpha}_{\\mathrm{data}}$')\n",
    "ax[2].errorbar(df_plot['p'],df_plot['off_diag_zeta_error_max'], yerr=2*df_plot['off_diag_zeta_se_max'],fmt='-o',c='red',label = r'$ \\hat{\\alpha}_{\\mathrm{pca}}$')\n",
    "\n",
    "df_plot = df_nconst_2\n",
    "ax[2].errorbar(df_plot['p'],df_plot['off_diag_Y_error_max'], yerr=2*df_plot['off_diag_Y_se_max'],fmt='-o',c='black')\n",
    "ax[2].errorbar(df_plot['p'],df_plot['off_diag_zeta_error_max'], yerr=2*df_plot['off_diag_zeta_se_max'],fmt='-o',c='red')\n",
    "\n",
    "df_plot = df_nconst_3\n",
    "ax[2].errorbar(df_plot['p'],df_plot['off_diag_Y_error_max'], yerr=2*df_plot['off_diag_Y_se_max'],fmt='-o',c='black')\n",
    "ax[2].errorbar(df_plot['p'],df_plot['off_diag_zeta_error_max'], yerr=2*df_plot['off_diag_zeta_se_max'],fmt='-o',c='red')\n",
    "\n",
    "\n",
    "ax[2].set_yscale('log')\n",
    "ax[2].set_xlabel('$p$',fontsize = 34)\n",
    "#ax[2].set_ylabel('Maximum error',fontsize = 16)\n",
    "ax[2].tick_params(axis='x', labelsize=28,pad=0)\n",
    "ax[2].tick_params(axis='y', labelsize=28,pad=0)\n",
    "ax[2].tick_params(axis='y', which = 'minor', labelsize=0,pad=0)\n",
    "ax[2].set_title(r'$n$ fixed',fontsize =34)\n",
    "ax[2].grid(visible=True,which='both',axis='both')\n",
    "ax[2].legend(loc='upper right', prop={'size': 34});\n",
    "\n",
    "\n",
    "ax[2].annotate('$n=10^1$', (144, 1.4), xytext=(144, 0.85),    arrowprops=dict(width=1, facecolor='black', shrink=0.05), fontsize = 25)\n",
    "ax[2].annotate('$n=10^2$', xy=(240, 1.65), xytext=(240, 1.2),    arrowprops=dict(width=1, facecolor='black', shrink=0.05), fontsize = 25)\n",
    "ax[2].annotate('$n=10^3$', xy=(270, 2.1), xytext=(340, 2),    arrowprops=dict(width=1, facecolor='black', shrink=0.05), fontsize = 25)\n",
    "\n",
    "#no arrows\n",
    "#ax[2].text(x=140,y=0.85,s='$n=10^1$', fontsize = 25)\n",
    "#ax[2].text(x=240,y=1.2,s='$n=10^2$', fontsize = 25)\n",
    "#ax[2].text(x=330,y=2,s='$n=10^3$', fontsize = 25)\n",
    "\n",
    "df_plot = df_pconst_1\n",
    "ax[1].errorbar(df_plot['n'],df_plot['off_diag_Y_error_max'], yerr=2*df_plot['off_diag_Y_se_max'],fmt='-o',c='black')\n",
    "ax[1].errorbar(df_plot['n'],df_plot['off_diag_zeta_error_max'], yerr=2*df_plot['off_diag_zeta_se_max'],fmt='-o',c='red')\n",
    "\n",
    "df_plot = df_pconst_2\n",
    "ax[1].errorbar(df_plot['n'],df_plot['off_diag_Y_error_max'], yerr=2*df_plot['off_diag_Y_se_max'],fmt='-o',c='black')\n",
    "ax[1].errorbar(df_plot['n'],df_plot['off_diag_zeta_error_max'], yerr=2*df_plot['off_diag_zeta_se_max'],fmt='-o',c='red')\n",
    "\n",
    "df_plot = df_pconst_3\n",
    "ax[1].errorbar(df_plot['n'],df_plot['off_diag_Y_error_max'], yerr=2*df_plot['off_diag_Y_se_max'],fmt='-o',c='black')\n",
    "ax[1].errorbar(df_plot['n'],df_plot['off_diag_zeta_error_max'], yerr=2*df_plot['off_diag_zeta_se_max'],fmt='-o',c='red')\n",
    "\n",
    "\n",
    "ax[1].set_yscale('log')\n",
    "ax[1].set_ylim(top = 15, bottom = 0.7)\n",
    "ax[1].set_xlabel('$n$',fontsize = 34)\n",
    "\n",
    "#ax[2].set_ylabel('Maximum error',fontsize = 16)\n",
    "ax[1].tick_params(axis='x', labelsize=28,pad=0)\n",
    "ax[1].tick_params(axis='y', labelsize=28,pad=0)\n",
    "ax[1].set_title(r'$p$ fixed',fontsize =34)\n",
    "ax[1].grid(visible=True,which='both',axis='both')\n",
    "\n",
    "ax[1].text(x=800,y=12,s='$p=10^1$', fontsize = 25)\n",
    "ax[1].text(x=800,y=3.5,s='$p=10^2$', fontsize = 25)\n",
    "ax[1].text(x=800,y=1.15,s='$p=10^3$', fontsize = 25)\n",
    "\n",
    "fig.text(0.025, 0.925, '(a)', fontsize=34,weight='bold' )\n",
    "fig.text(0.35, 0.925, '(b)', fontsize=34,weight='bold' )\n",
    "fig.text(0.677, 0.925, '(c)', fontsize=34,weight='bold' )\n",
    "\n",
    "fig.tight_layout()"
   ]
  },
  {
   "cell_type": "code",
   "execution_count": 22,
   "metadata": {},
   "outputs": [],
   "source": [
    "fig.savefig(f\"max_errors.pdf\", bbox_inches='tight')"
   ]
  },
  {
   "cell_type": "code",
   "execution_count": 60,
   "metadata": {},
   "outputs": [],
   "source": [
    "df1.to_csv('df1.csv')\n",
    "df2.to_csv('df2.csv')\n",
    "df3.to_csv('df3.csv')\n",
    "df4.to_csv('df4.csv')\n",
    "df_pconst_1.to_csv('df_pconst_1.csv')\n",
    "df_pconst_2.to_csv('df_pconst_2.csv')\n",
    "df_pconst_3.to_csv('df_pconst_3.csv')\n",
    "df_nconst_1.to_csv('df_nconst_1.csv')\n",
    "df_nconst_2.to_csv('df_nconst_2.csv')\n",
    "df_nconst_3.to_csv('df_nconst_3.csv')\n"
   ]
  },
  {
   "cell_type": "code",
   "execution_count": 7,
   "metadata": {},
   "outputs": [],
   "source": [
    "df1=pd.read_csv('df1.csv')\n",
    "df2=pd.read_csv('df2.csv')\n",
    "df3=pd.read_csv('df3.csv')\n",
    "df4=pd.read_csv('df4.csv')\n",
    "df_pconst_1=pd.read_csv('df_pconst_1.csv')\n",
    "df_pconst_2=pd.read_csv('df_pconst_2.csv')\n",
    "df_pconst_3=pd.read_csv('df_pconst_3.csv')\n",
    "df_nconst_1=pd.read_csv('df_nconst_1.csv')\n",
    "df_nconst_2=pd.read_csv('df_nconst_2.csv')\n",
    "df_nconst_3=pd.read_csv('df_nconst_3.csv')"
   ]
  }
 ],
 "metadata": {
  "kernelspec": {
   "display_name": "Python 3",
   "language": "python",
   "name": "python3"
  },
  "language_info": {
   "codemirror_mode": {
    "name": "ipython",
    "version": 3
   },
   "file_extension": ".py",
   "mimetype": "text/x-python",
   "name": "python",
   "nbconvert_exporter": "python",
   "pygments_lexer": "ipython3",
   "version": "3.8.5"
  }
 },
 "nbformat": 4,
 "nbformat_minor": 4
}
