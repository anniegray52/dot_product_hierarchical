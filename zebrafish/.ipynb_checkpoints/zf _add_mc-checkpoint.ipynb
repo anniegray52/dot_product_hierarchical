{
 "cells": [
  {
   "cell_type": "markdown",
   "metadata": {},
   "source": [
    "# Zebrafish lineages"
   ]
  },
  {
   "cell_type": "code",
   "execution_count": 1,
   "metadata": {},
   "outputs": [
    {
     "name": "stderr",
     "output_type": "stream",
     "text": [
      "/home/ag16115/anaconda3/lib/python3.8/site-packages/scipy/__init__.py:138: UserWarning: A NumPy version >=1.16.5 and <1.23.0 is required for this version of SciPy (detected version 1.23.1)\n",
      "  warnings.warn(f\"A NumPy version >={np_minversion} and <{np_maxversion} is required for this version of \"\n"
     ]
    }
   ],
   "source": [
    "import numpy as np\n",
    "import pandas as pd\n",
    "import matplotlib.pyplot as pl\n",
    "import scanpy as sc\n",
    "\n",
    "sc.settings.verbosity = 2  # verbosity: errors (0), warnings (1), info (2), hints (3)\n",
    "sc.settings.set_figure_params(dpi=150)  # low dpi (dots per inch) yields small inline figures\n",
    "# sc.logging.print_versions()\n",
    "# results_file = './write/planaria_pp.h5ad'"
   ]
  },
  {
   "cell_type": "code",
   "execution_count": 2,
   "metadata": {},
   "outputs": [],
   "source": [
    "from scipy import linalg\n",
    "from scipy import sparse\n",
    "from scipy.sparse.linalg import svds\n",
    "import ot\n",
    "\n",
    "\n",
    "from numpy.linalg import matrix_rank\n",
    "import itertools\n",
    "import copy\n",
    "import time as time\n",
    "from sklearn.cluster import AgglomerativeClustering\n",
    "from matplotlib.pyplot import figure\n",
    "from scipy.cluster.hierarchy import dendrogram, fcluster, cophenet\n",
    "from scipy.spatial.distance import pdist,squareform\n",
    "import plotly.graph_objects as go\n",
    "from plotly.subplots import make_subplots\n",
    "\n",
    "from tqdm import tqdm\n",
    "from sklearn.metrics import pairwise_distances\n",
    "from sklearn.metrics.pairwise import cosine_similarity\n",
    "from sklearn.metrics.cluster import adjusted_rand_score, fowlkes_mallows_score\n",
    "from scipy.stats import rankdata,kendalltau,sem\n",
    "\n",
    "import matplotlib.pyplot as plt\n",
    "import matplotlib.ticker as mtick\n",
    "from sklearn.manifold import TSNE\n",
    "import seaborn as sns"
   ]
  },
  {
   "cell_type": "code",
   "execution_count": 3,
   "metadata": {},
   "outputs": [],
   "source": [
    "import random \n",
    "random.seed(22)"
   ]
  },
  {
   "cell_type": "markdown",
   "metadata": {
    "tags": []
   },
   "source": [
    "# Functions"
   ]
  },
  {
   "cell_type": "markdown",
   "metadata": {},
   "source": [
    "## General"
   ]
  },
  {
   "cell_type": "code",
   "execution_count": 4,
   "metadata": {},
   "outputs": [],
   "source": [
    "def signif(x, p):\n",
    "    x = np.asarray(x)\n",
    "    x_positive = np.where(np.isfinite(x) & (x != 0), np.abs(x), 10**(p-1))\n",
    "    mags = 10 ** (p - 1 - np.floor(np.log10(x_positive)))\n",
    "    return np.round(x * mags) / mags\n",
    "\n",
    "def flatten_list(l):\n",
    "    flat_list = [item for sublist in l for item in sublist]\n",
    "    return flat_list\n",
    "\n",
    "def check_symmetric(a, rtol=1e-05, atol=1e-08):\n",
    "    return np.allclose(a, a.T, rtol=rtol, atol=atol)\n",
    "\n",
    "def is_pos_def(x):\n",
    "    return np.all(np.linalg.eigvals(x) > 0)\n",
    "\n",
    "def reverse_dict(dic):\n",
    "    for r in dic.keys():\n",
    "        if not isinstance(dic[r], list):\n",
    "            dic[r] = [dic[r]]\n",
    "    inverse = { v: k for k, l in dic.items() for v in l }\n",
    "    return inverse\n",
    "\n",
    "def pc_scores(X, r):\n",
    "    U, s, Vh = svds(X,k=r)\n",
    "    idx = s.argsort()[::-1]   \n",
    "    Vh = Vh[idx,:]\n",
    "    Y = X @ Vh.T\n",
    "    return Y\n",
    "\n",
    "def embed_cov(X, r):\n",
    "    if r == X.shape[0]:\n",
    "        U, s, Vh = np.linalg.svd(X, full_matrices=True)\n",
    "    else:\n",
    "        U, s, Vh = svds(X,k=r)\n",
    "    idx = s.argsort()[::-1]   \n",
    "    U = U[:,idx]\n",
    "    s = s[idx]\n",
    "    ## need to take square root as these are eigenvalues\n",
    "    Y = U @ np.diag(np.sqrt(s)) \n",
    "    return Y\n",
    "\n",
    "def find_rows_to_merge(F):\n",
    "    f = copy.deepcopy(F)\n",
    "    np.fill_diagonal(f, -np.inf)\n",
    "    i,j = np.unravel_index(f.argmax(), f.shape)\n",
    "    return [i,j]   \n",
    "\n",
    "def inner_products(X):\n",
    "    return X.dot(X.T)"
   ]
  },
  {
   "cell_type": "code",
   "execution_count": 5,
   "metadata": {},
   "outputs": [],
   "source": [
    "def wasserstein_dim_select(Y, split = 0.5, rmax = 50):\n",
    "    n = Y.shape[0]\n",
    "    train = round(n * split)\n",
    "    rtry = int(np.min((train, rmax)))\n",
    "    if sparse.issparse(Y):\n",
    "        Y = Y.todense()\n",
    "    Ytrain = Y[:train,:]\n",
    "    Ytest = Y[train:n,:]\n",
    "    U, s, Vh = sparse.linalg.svds(Ytrain,k=rtry-1)\n",
    "    idx = s.argsort()[::-1] \n",
    "    s = s[idx]\n",
    "    Vh = Vh[idx,:]\n",
    "    ws = []\n",
    "    for r in tqdm(range(1,rtry+1)):\n",
    "        P = Vh.T[:,:r] @ Vh[:r,:]\n",
    "        Yproj = Ytrain @ P.T\n",
    "        n1 = Yproj.shape[0]\n",
    "        n2 = Ytest.shape[0]\n",
    "        M = ot.dist(Yproj,Ytest, metric='euclidean')\n",
    "        W1 = ot.emd2(np.repeat(1/n1,n1),np.repeat(1/n2,n2),M)\n",
    "        ws.append(W1)\n",
    "    return ws"
   ]
  },
  {
   "cell_type": "markdown",
   "metadata": {},
   "source": [
    "## IP HC"
   ]
  },
  {
   "cell_type": "code",
   "execution_count": 6,
   "metadata": {},
   "outputs": [],
   "source": [
    "# def ip_metric(X,Y):\n",
    "#     return  np.exp(-np.sum(X * Y))\n",
    "\n",
    "# def ip_affinity(X):\n",
    "#     return pairwise_distances(X, metric = ip_metric)"
   ]
  },
  {
   "cell_type": "code",
   "execution_count": 7,
   "metadata": {},
   "outputs": [],
   "source": [
    "def ip_metric(X,Y):\n",
    "    return  np.sum(X * Y)\n",
    "\n",
    "def ip_affinity(X):\n",
    "    ips = pairwise_distances(X, metric = ip_metric)\n",
    "    return np.max(ips) - ips"
   ]
  },
  {
   "cell_type": "code",
   "execution_count": 8,
   "metadata": {},
   "outputs": [],
   "source": [
    "def clusters_to_labels(clusters):\n",
    "    d = defaultdict(list)\n",
    "    for index, sublist in enumerate(clusters):\n",
    "        for item in sublist:\n",
    "            d[item].append(index)\n",
    "    labels = flatten_list([d[c] for c in range(len(d.keys()))])\n",
    "    return labels"
   ]
  },
  {
   "cell_type": "markdown",
   "metadata": {},
   "source": [
    "## Ranking"
   ]
  },
  {
   "cell_type": "code",
   "execution_count": 9,
   "metadata": {},
   "outputs": [],
   "source": [
    "def find_ancestors(model, target):\n",
    "    n_samples = len(model.labels_)\n",
    "    global ances\n",
    "    for ind, merge in enumerate(model.children_):\n",
    "        if target in merge:\n",
    "            if n_samples+ind in ances:\n",
    "                return [target]+ ances[n_samples+ind]\n",
    "            ances[n_samples+ind] = find_ancestors(model,n_samples+ind)\n",
    "            return [target]+ances[n_samples+ind]\n",
    "    return [ind+n_samples]\n",
    "\n",
    "def find_descendents(model,node):\n",
    "    n_samples = len(model.labels_)\n",
    "    global desc\n",
    "    if node in desc:\n",
    "        return desc[node]\n",
    "    if node < n_samples:\n",
    "        return [node]\n",
    "    pair = model.children_[node-n_samples]\n",
    "    desc[node] = find_descendents(model,pair[0])+find_descendents(model,pair[1])\n",
    "    return desc[node]\n",
    "\n",
    "def get_ranking(model, target):\n",
    "    rank = np.zeros(len(model.labels_))\n",
    "    to_root = [find_descendents(model, cl) for cl in find_ancestors(model, target)]\n",
    "    to_rank = [list(set(to_root[i+1]) - set(to_root[i])) for i in range(len(to_root)-1)]\n",
    "    for i in range(1,len(to_rank)+1):\n",
    "        rank[to_rank[i-1]] = i\n",
    "    return rank"
   ]
  },
  {
   "cell_type": "markdown",
   "metadata": {},
   "source": [
    "## Dendrogram"
   ]
  },
  {
   "cell_type": "code",
   "execution_count": 10,
   "metadata": {},
   "outputs": [],
   "source": [
    "def plot_dendrogram(model, rescale = False, size = (10,10), **kwargs):\n",
    "    # Create linkage matrix and then plot the dendrogram\n",
    "\n",
    "    # create the counts of samples under each node\n",
    "    counts = np.zeros(model.children_.shape[0])\n",
    "    n_samples = len(model.labels_)\n",
    "    for i, merge in enumerate(model.children_):\n",
    "        current_count = 0\n",
    "        for child_idx in merge:\n",
    "            if child_idx < n_samples:\n",
    "                current_count += 1  # leaf node\n",
    "            else:\n",
    "                current_count += counts[child_idx - n_samples]\n",
    "        counts[i] = current_count\n",
    "    \n",
    "    if rescale == True:\n",
    "        d_max = np.max(model.distances_)\n",
    "        d_min = np.min(model.distances_)\n",
    "        distances = (model.distances_ - d_min) / (d_max - d_min)\n",
    "    else:\n",
    "        distances = model.distances_\n",
    "\n",
    "    linkage_matrix = np.column_stack(\n",
    "        [model.children_, distances, counts]\n",
    "    ).astype(float)\n",
    "\n",
    "    # Plot the corresponding dendrogram\n",
    "    fig = plt.figure(figsize = size)\n",
    "    dendrogram(linkage_matrix, **kwargs)\n"
   ]
  },
  {
   "cell_type": "code",
   "execution_count": null,
   "metadata": {},
   "outputs": [],
   "source": [
    "def linkage_matrix(model, rescale = False):\n",
    "    # Create linkage matrix and then plot the dendrogram\n",
    "\n",
    "    # create the counts of samples under each node\n",
    "    counts = np.zeros(model.children_.shape[0])\n",
    "    n_samples = len(model.labels_)\n",
    "    for i, merge in enumerate(model.children_):\n",
    "        current_count = 0\n",
    "        for child_idx in merge:\n",
    "            if child_idx < n_samples:\n",
    "                current_count += 1  # leaf node\n",
    "            else:\n",
    "                current_count += counts[child_idx - n_samples]\n",
    "        counts[i] = current_count\n",
    "    \n",
    "    if rescale == True:\n",
    "        d_max = np.max(model.distances_)\n",
    "        d_min = np.min(model.distances_)\n",
    "        distances = (model.distances_ - d_min) / (d_max - d_min)\n",
    "    else:\n",
    "        distances = model.distances_\n",
    "\n",
    "    linkage_matrix = np.column_stack(\n",
    "        [model.children_, distances, counts]\n",
    "    ).astype(float)\n",
    "\n",
    "    return linkage_matrix\n",
    "\n",
    "def NormalizeData(data):\n",
    "    return (data - np.min(data)) / (np.max(data) - np.min(data))"
   ]
  },
  {
   "cell_type": "markdown",
   "metadata": {},
   "source": [
    "# Data load and preprocessing"
   ]
  },
  {
   "cell_type": "code",
   "execution_count": 11,
   "metadata": {},
   "outputs": [],
   "source": [
    "adata = sc.read_h5ad('WagnerScience2018.h5ad')\n",
    "sc.pp.subsample(adata, fraction = 0.08)\n",
    "adata = adata[~adata.obs['ClusterName'].isin(['NaN']),:]"
   ]
  },
  {
   "cell_type": "code",
   "execution_count": 12,
   "metadata": {},
   "outputs": [],
   "source": [
    "labels = list(adata.obs['TissueName'])\n",
    "labels_id = list(adata.obs['TissueID'])"
   ]
  },
  {
   "cell_type": "code",
   "execution_count": 13,
   "metadata": {},
   "outputs": [],
   "source": [
    "cats = np.array([cl.split('-',1)[1] for cl in adata.obs['ClusterName']])\n",
    "uni_cats = np.unique(cats)"
   ]
  },
  {
   "cell_type": "code",
   "execution_count": 14,
   "metadata": {},
   "outputs": [],
   "source": [
    "tissues = np.array(adata.obs['TissueName'])\n",
    "uni_tissues =  np.unique(np.array([adata.obs[adata.obs['ClusterName'].str.contains(c)]['TissueName'][0] for c in uni_cats]))"
   ]
  },
  {
   "cell_type": "code",
   "execution_count": 15,
   "metadata": {},
   "outputs": [
    {
     "name": "stderr",
     "output_type": "stream",
     "text": [
      "<ipython-input-15-627c8036739a>:1: ImplicitModificationWarning: Trying to modify attribute `.obs` of view, initializing view as actual.\n",
      "  adata.obs['Cat1'] = tissues\n"
     ]
    }
   ],
   "source": [
    "adata.obs['Cat1'] = tissues \n",
    "adata.obs['Cat2'] = cats"
   ]
  },
  {
   "cell_type": "code",
   "execution_count": 16,
   "metadata": {},
   "outputs": [],
   "source": [
    "n = len(adata.obs)"
   ]
  },
  {
   "cell_type": "code",
   "execution_count": 17,
   "metadata": {},
   "outputs": [],
   "source": [
    "# true ranking \n",
    "id_2cats = {i:list(adata.obs[['Cat1','Cat2']].iloc[i]) for i in range(n)}\n",
    "pairs = np.array(list(itertools.combinations(list(range(n)), 2)))\n",
    "n_inter =  [len(list(set(id_2cats[pairs[i][0]]) & set(id_2cats[pairs[i][1]]))) for i in range(pairs.shape[0])]\n",
    "\n",
    "upper = np.zeros((n, n))\n",
    "upper[np.triu_indices(n, 1)] = np.max(n_inter) - n_inter\n",
    "true_ranking = upper + upper.T"
   ]
  },
  {
   "cell_type": "code",
   "execution_count": 18,
   "metadata": {
    "tags": []
   },
   "outputs": [
    {
     "name": "stdout",
     "output_type": "stream",
     "text": [
      "filtered out 1381 genes that are detected in less than 3 cells\n"
     ]
    }
   ],
   "source": [
    "sc.pp.filter_cells(adata, min_genes=200)\n",
    "sc.pp.filter_genes(adata, min_cells=3)"
   ]
  },
  {
   "cell_type": "code",
   "execution_count": 19,
   "metadata": {
    "tags": []
   },
   "outputs": [
    {
     "name": "stdout",
     "output_type": "stream",
     "text": [
      "normalizing by total count per cell\n",
      "    finished (0:00:00): normalized adata.X and added    'n_counts', counts per cell before normalization (adata.obs)\n"
     ]
    }
   ],
   "source": [
    "sc.pp.normalize_per_cell(adata, counts_per_cell_after=1e4)"
   ]
  },
  {
   "cell_type": "code",
   "execution_count": 20,
   "metadata": {},
   "outputs": [
    {
     "name": "stdout",
     "output_type": "stream",
     "text": [
      "extracting highly variable genes\n",
      "    finished (0:00:00)\n"
     ]
    },
    {
     "data": {
      "image/png": "[encoded data removed]",
      "text/plain": [
       "<Figure size 576x288 with 2 Axes>"
      ]
     },
     "metadata": {
      "needs_background": "light"
     },
     "output_type": "display_data"
    }
   ],
   "source": [
    "filter_result = sc.pp.filter_genes_dispersion(\n",
    "    adata.X, min_mean=0.0125, max_mean=3, min_disp=0.5)\n",
    "sc.pl.filter_genes_dispersion(filter_result)"
   ]
  },
  {
   "cell_type": "code",
   "execution_count": 21,
   "metadata": {
    "tags": []
   },
   "outputs": [],
   "source": [
    "adata = adata[:, filter_result.gene_subset]"
   ]
  },
  {
   "cell_type": "code",
   "execution_count": 22,
   "metadata": {
    "tags": []
   },
   "outputs": [
    {
     "name": "stderr",
     "output_type": "stream",
     "text": [
      "/home/ag16115/anaconda3/lib/python3.8/site-packages/scanpy/preprocessing/_simple.py:373: UserWarning: Received a view of an AnnData. Making a copy.\n",
      "  view_to_actual(adata)\n"
     ]
    }
   ],
   "source": [
    "sc.pp.log1p(adata)"
   ]
  },
  {
   "cell_type": "code",
   "execution_count": 23,
   "metadata": {},
   "outputs": [
    {
     "name": "stdout",
     "output_type": "stream",
     "text": [
      "regressing out n_counts\n",
      "    sparse input is densified and may lead to high memory use\n"
     ]
    },
    {
     "name": "stderr",
     "output_type": "stream",
     "text": [
      "/home/ag16115/anaconda3/lib/python3.8/site-packages/statsmodels/tsa/base/tsa_model.py:7: FutureWarning: pandas.Int64Index is deprecated and will be removed from pandas in a future version. Use pandas.Index with the appropriate dtype instead.\n",
      "  from pandas import (to_datetime, Int64Index, DatetimeIndex, Period,\n",
      "/home/ag16115/anaconda3/lib/python3.8/site-packages/statsmodels/tsa/base/tsa_model.py:7: FutureWarning: pandas.Float64Index is deprecated and will be removed from pandas in a future version. Use pandas.Index with the appropriate dtype instead.\n",
      "  from pandas import (to_datetime, Int64Index, DatetimeIndex, Period,\n"
     ]
    },
    {
     "name": "stdout",
     "output_type": "stream",
     "text": [
      "    finished (0:00:37)\n"
     ]
    }
   ],
   "source": [
    "sc.pp.regress_out(adata, 'n_counts')"
   ]
  },
  {
   "cell_type": "code",
   "execution_count": 24,
   "metadata": {
    "tags": []
   },
   "outputs": [],
   "source": [
    "sc.pp.scale(adata, max_value=10)"
   ]
  },
  {
   "cell_type": "markdown",
   "metadata": {},
   "source": [
    "# PCA"
   ]
  },
  {
   "cell_type": "code",
   "execution_count": 25,
   "metadata": {},
   "outputs": [],
   "source": [
    "adata.obs['clusters'] = labels\n",
    "sc._utils.sanitize_anndata(adata)"
   ]
  },
  {
   "cell_type": "code",
   "execution_count": 26,
   "metadata": {},
   "outputs": [],
   "source": [
    "list_labels =  np.unique(labels).tolist()"
   ]
  },
  {
   "cell_type": "code",
   "execution_count": 27,
   "metadata": {},
   "outputs": [],
   "source": [
    "ordered_cats = list_labels"
   ]
  },
  {
   "cell_type": "code",
   "execution_count": 28,
   "metadata": {},
   "outputs": [],
   "source": [
    "colors = {\n",
    " 'Endoderm': 'purple',\n",
    " 'Epidermal' : 'dodgerblue',\n",
    " 'Forebrain / Optic' : 'lightsalmon',\n",
    " 'Germline' : 'darkolivegreen',\n",
    " 'Hindbrain / Spinal Cord' : 'firebrick',\n",
    " 'Mesoderm' : 'teal',\n",
    " 'Midbrain' : 'pink',\n",
    " 'NaN' : '#8A8A8A',\n",
    " 'Neural Crest': 'darkorange' ,\n",
    " 'Other' : 'yellow',\n",
    " 'Pluripotent': 'mediumorchid'\n",
    "}"
   ]
  },
  {
   "cell_type": "code",
   "execution_count": 29,
   "metadata": {
    "tags": []
   },
   "outputs": [],
   "source": [
    "adata.uns['clusters_colors'] = [colors[clus] for clus in list(adata.obs['clusters'])]"
   ]
  },
  {
   "cell_type": "code",
   "execution_count": 30,
   "metadata": {},
   "outputs": [],
   "source": [
    "Y = np.array(adata.to_df())\n",
    "n,p = Y.shape"
   ]
  },
  {
   "cell_type": "code",
   "execution_count": 31,
   "metadata": {},
   "outputs": [
    {
     "name": "stdout",
     "output_type": "stream",
     "text": [
      "5079 5498\n"
     ]
    }
   ],
   "source": [
    "print(n,p)"
   ]
  },
  {
   "cell_type": "code",
   "execution_count": 32,
   "metadata": {},
   "outputs": [],
   "source": [
    "dim = 29"
   ]
  },
  {
   "cell_type": "code",
   "execution_count": 33,
   "metadata": {},
   "outputs": [],
   "source": [
    "zeta = p**-.5 * pc_scores(Y, dim)"
   ]
  },
  {
   "cell_type": "code",
   "execution_count": 34,
   "metadata": {},
   "outputs": [],
   "source": [
    "adata.obsm['PC_scores'] = zeta"
   ]
  },
  {
   "cell_type": "code",
   "execution_count": 38,
   "metadata": {},
   "outputs": [
    {
     "data": {
      "text/plain": [
       "<matplotlib.legend.Legend at 0x7f4e9c0bc970>"
      ]
     },
     "execution_count": 38,
     "metadata": {},
     "output_type": "execute_result"
    },
    {
     "data": {
      "image/png": "[encoded data removed]",
      "text/plain": [
       "<Figure size 720x720 with 1 Axes>"
      ]
     },
     "metadata": {
      "needs_background": "light"
     },
     "output_type": "display_data"
    }
   ],
   "source": [
    "## plot after applying PCA lhs and after applying PCA then t-SNE on the rhs\n",
    "fig,ax = plt.subplots(1,1,figsize = (10,10))\n",
    "for t in ordered_cats:\n",
    "    idx = np.where(adata.obs['clusters'] == t)[0]\n",
    "    ax.scatter(zeta[idx,0],zeta[idx,1], marker = 'o',edgecolor='black', linewidth=0,s = 80,label = t,c= colors[t]);\n",
    "ax.set_title(f'PCA',fontsize=25)\n",
    "ax.axes.xaxis.set_visible(False)\n",
    "ax.axes.yaxis.set_visible(False)\n",
    "\n",
    "ax.legend(loc='upper center', bbox_to_anchor=(1, -0.02),\n",
    "          fancybox=True, shadow=True, ncol=8)\n",
    "\n",
    "# fig.savefig(f\"planaria.pdf\", bbox_inches='tight')"
   ]
  },
  {
   "cell_type": "code",
   "execution_count": 42,
   "metadata": {},
   "outputs": [
    {
     "data": {
      "text/plain": [
       "AgglomerativeClustering(distance_threshold=0, linkage='average',\n",
       "                        n_clusters=None)"
      ]
     },
     "execution_count": 42,
     "metadata": {},
     "output_type": "execute_result"
    }
   ],
   "source": [
    "idxs = [np.where(np.array(tissues == t))[0] for t in sorted(uni_tissues)]\n",
    "t_zeta = np.array([np.mean(zeta[idx,:],axis = 0) for idx in idxs])\n",
    "ip_t_clust = AgglomerativeClustering(linkage=\"average\", distance_threshold=0, n_clusters = None)\n",
    "ip_t_clust.fit(t_zeta)"
   ]
  },
  {
   "cell_type": "code",
   "execution_count": 43,
   "metadata": {},
   "outputs": [
    {
     "data": {
      "image/png": "[encoded data removed]",
      "text/plain": [
       "<Figure size 720x360 with 1 Axes>"
      ]
     },
     "metadata": {
      "needs_background": "light"
     },
     "output_type": "display_data"
    }
   ],
   "source": [
    "plot_dendrogram(ip_t_clust, rescale = True, labels = list(uni_tissues), size = (10,5), orientation='left',truncate_mode=\"level\",color_threshold = 0)"
   ]
  },
  {
   "cell_type": "markdown",
   "metadata": {},
   "source": [
    "# method comparison"
   ]
  },
  {
   "cell_type": "code",
   "execution_count": null,
   "metadata": {},
   "outputs": [],
   "source": [
    "method_comparison_df = pd.DataFrame()"
   ]
  },
  {
   "cell_type": "markdown",
   "metadata": {},
   "source": [
    "### inner products"
   ]
  },
  {
   "cell_type": "code",
   "execution_count": null,
   "metadata": {},
   "outputs": [],
   "source": [
    "%%time\n",
    "ip_clust = AgglomerativeClustering(affinity = ip_affinity, linkage = 'average',distance_threshold=0, n_clusters=None)\n",
    "ip_clust.fit(zeta);"
   ]
  },
  {
   "cell_type": "code",
   "execution_count": null,
   "metadata": {},
   "outputs": [],
   "source": [
    "%%time\n",
    "ances = {}; desc = {}\n",
    "ip_ranking = np.array([get_ranking(ip_clust,t) for t in range(n)])\n",
    "\n",
    "ip_kt_z = [kendalltau(ip_ranking[i], true_ranking[i]).correlation for i in range(ip_ranking.shape[0])]\n",
    "np.mean(ip_kt_z)"
   ]
  },
  {
   "cell_type": "code",
   "execution_count": null,
   "metadata": {},
   "outputs": [],
   "source": [
    "%%time\n",
    "ip_clust = AgglomerativeClustering(affinity = ip_affinity, linkage = 'average',distance_threshold=0, n_clusters=None)\n",
    "ip_clust.fit(Y);"
   ]
  },
  {
   "cell_type": "code",
   "execution_count": null,
   "metadata": {},
   "outputs": [],
   "source": [
    "%%time\n",
    "ances = {}; desc = {}\n",
    "ip_ranking = np.array([get_ranking(ip_clust,t) for t in range(n)])\n",
    "\n",
    "ip_kt_y = [kendalltau(ip_ranking[i], true_ranking[i]).correlation for i in range(ip_ranking.shape[0])]\n",
    "np.mean(ip_kt_y)"
   ]
  },
  {
   "cell_type": "markdown",
   "metadata": {},
   "source": [
    "### ward"
   ]
  },
  {
   "cell_type": "code",
   "execution_count": null,
   "metadata": {},
   "outputs": [],
   "source": [
    "%%time\n",
    "ward = AgglomerativeClustering(linkage=\"ward\", distance_threshold=0, n_clusters = None)\n",
    "ward.fit(zeta)"
   ]
  },
  {
   "cell_type": "code",
   "execution_count": null,
   "metadata": {},
   "outputs": [],
   "source": [
    "%%time\n",
    "ances = {}; desc = {}\n",
    "w_ranking = np.array([get_ranking(ward,t) for t in range(n)])\n",
    "\n",
    "w_kt_z = [kendalltau(w_ranking[i], true_ranking[i]).correlation for i in range(w_ranking.shape[0])]\n",
    "np.mean(w_kt_z)"
   ]
  },
  {
   "cell_type": "code",
   "execution_count": null,
   "metadata": {},
   "outputs": [],
   "source": [
    "%%time\n",
    "ward = AgglomerativeClustering(linkage=\"ward\", distance_threshold=0, n_clusters = None)\n",
    "ward.fit(Y)"
   ]
  },
  {
   "cell_type": "code",
   "execution_count": null,
   "metadata": {},
   "outputs": [],
   "source": [
    "%%time\n",
    "ances = {}; desc = {}\n",
    "w_ranking = np.array([get_ranking(ward,t) for t in range(n)])\n",
    "\n",
    "w_kt_y = [kendalltau(w_ranking[i], true_ranking[i]).correlation for i in range(w_ranking.shape[0])]\n",
    "np.mean(w_kt_y)"
   ]
  },
  {
   "cell_type": "markdown",
   "metadata": {},
   "source": [
    "### upgma"
   ]
  },
  {
   "cell_type": "code",
   "execution_count": null,
   "metadata": {},
   "outputs": [],
   "source": [
    "%%time\n",
    "average = AgglomerativeClustering(linkage=\"average\", distance_threshold=0, n_clusters = None)\n",
    "average.fit(zeta)"
   ]
  },
  {
   "cell_type": "code",
   "execution_count": null,
   "metadata": {},
   "outputs": [],
   "source": [
    "%%time\n",
    "ances = {}; desc  = {}\n",
    "a_ranking = np.array([get_ranking(average,t) for t in range(n)])\n",
    "\n",
    "a_kt_z = [kendalltau(a_ranking[i], true_ranking[i]).correlation for i in range(a_ranking.shape[0])]\n",
    "np.mean(a_kt_z)"
   ]
  },
  {
   "cell_type": "code",
   "execution_count": null,
   "metadata": {},
   "outputs": [],
   "source": [
    "sem(a_kt_z)"
   ]
  },
  {
   "cell_type": "code",
   "execution_count": null,
   "metadata": {},
   "outputs": [],
   "source": [
    "%%time\n",
    "average = AgglomerativeClustering(linkage=\"average\", distance_threshold=0, n_clusters = None)\n",
    "average.fit(Y)"
   ]
  },
  {
   "cell_type": "code",
   "execution_count": null,
   "metadata": {},
   "outputs": [],
   "source": [
    "%%time\n",
    "ances = {}; desc  = {}\n",
    "a_ranking = np.array([get_ranking(average,t) for t in range(n)])\n",
    "\n",
    "a_kt_y = [kendalltau(a_ranking[i], true_ranking[i]).correlation for i in range(a_ranking.shape[0])]\n",
    "np.mean(a_kt_y)"
   ]
  },
  {
   "cell_type": "markdown",
   "metadata": {},
   "source": [
    "### cosine"
   ]
  },
  {
   "cell_type": "code",
   "execution_count": null,
   "metadata": {},
   "outputs": [],
   "source": [
    "%%time\n",
    "cosine = AgglomerativeClustering(affinity = 'cosine', linkage = 'average', distance_threshold=0, n_clusters = None)\n",
    "cosine.fit(zeta)"
   ]
  },
  {
   "cell_type": "code",
   "execution_count": null,
   "metadata": {},
   "outputs": [],
   "source": [
    "%%time\n",
    "ances = {}; desc  = {}\n",
    "cs_ranking = np.array([get_ranking(cosine,t) for t in range(n)])\n",
    "\n",
    "cs_kt_z = [kendalltau(cs_ranking[i], true_ranking[i]).correlation for i in range(cs_ranking.shape[0])]\n",
    "np.mean(cs_kt_z)"
   ]
  },
  {
   "cell_type": "code",
   "execution_count": null,
   "metadata": {},
   "outputs": [],
   "source": [
    "%%time\n",
    "cosine = AgglomerativeClustering(affinity = 'cosine',linkage = 'average', distance_threshold=0, n_clusters = None)\n",
    "cosine.fit(Y)"
   ]
  },
  {
   "cell_type": "code",
   "execution_count": null,
   "metadata": {},
   "outputs": [],
   "source": [
    "%%time\n",
    "ances = {}; desc  = {}\n",
    "cs_ranking = np.array([get_ranking(cosine,t) for t in range(n)])\n",
    "\n",
    "cs_kt_y = [kendalltau(cs_ranking[i], true_ranking[i]).correlation for i in range(cs_ranking.shape[0])]\n",
    "np.mean(cs_kt_y)"
   ]
  },
  {
   "cell_type": "code",
   "execution_count": null,
   "metadata": {},
   "outputs": [],
   "source": [
    "method_comparison_df['ip_sem'] = [sem(ip_kt_z),sem(ip_kt_y)]\n",
    "\n",
    "method_comparison_df['ward_sem'] = [sem(w_kt_z),sem(w_kt_y)]\n",
    "\n",
    "method_comparison_df['upgma\t_sem'] = [sem(a_kt_z),sem(a_kt_y)]\n",
    "\n",
    "method_comparison_df['cosine_sem'] = [sem(cs_kt_z),sem(cs_kt_y)]"
   ]
  },
  {
   "cell_type": "code",
   "execution_count": null,
   "metadata": {},
   "outputs": [],
   "source": [
    "method_comparison_df['ip_z'] = [np.mean(ip_kt_z),sem(ip_kt_z)]\n",
    "method_comparison_df['ip_y'] = [np.mean(ip_kt_y),sem(ip_kt_y)]\n",
    "\n",
    "method_comparison_df['w_z'] = [np.mean(w_kt_z),sem(w_kt_z)]\n",
    "method_comparison_df['w_y'] = [np.mean(w_kt_y),sem(w_kt_y)]\n",
    "\n",
    "method_comparison_df['a_z'] = [np.mean(a_kt_z),sem(a_kt_z)]\n",
    "method_comparison_df['a_y'] = [np.mean(a_kt_y),sem(a_kt_y)]\n",
    "\n",
    "method_comparison_df['cs_z'] = [np.mean(cs_kt_z),sem(cs_kt_z)]\n",
    "method_comparison_df['cs_y'] = [np.mean(cs_kt_y),sem(cs_kt_y)]"
   ]
  },
  {
   "cell_type": "code",
   "execution_count": null,
   "metadata": {},
   "outputs": [],
   "source": [
    "# method_comparison_df.to_csv('method_comparison.csv', index=False)\n",
    "# method_comparison_df"
   ]
  },
  {
   "cell_type": "markdown",
   "metadata": {},
   "source": [
    "### hdbscan"
   ]
  },
  {
   "cell_type": "code",
   "execution_count": null,
   "metadata": {},
   "outputs": [],
   "source": [
    "import hdbscan"
   ]
  },
  {
   "cell_type": "code",
   "execution_count": null,
   "metadata": {},
   "outputs": [],
   "source": [
    "import sys\n",
    "sys.setrecursionlimit(10000)"
   ]
  },
  {
   "cell_type": "code",
   "execution_count": null,
   "metadata": {},
   "outputs": [],
   "source": [
    "hdbscan_ = hdbscan.HDBSCAN()\n",
    "hdbscan_.fit(zeta)\n",
    "\n",
    "hdbscan_.single_linkage_tree_;\n",
    "hdbscan_.children_ = np.array(hdbscan_.single_linkage_tree_.to_pandas()[['left_child','right_child']], dtype=int)"
   ]
  },
  {
   "cell_type": "code",
   "execution_count": null,
   "metadata": {},
   "outputs": [],
   "source": [
    "%%time\n",
    "ances = {}; desc = {}\n",
    "hdbscan_ranking = np.array([get_ranking(hdbscan_,t) for t in range(n)]) \n",
    "\n",
    "hdbscan_kt_z = [kendalltau(hdbscan_ranking[i], true_ranking[i]).correlation for i in range(hdbscan_ranking.shape[0])]\n",
    "np.mean(hdbscan_kt_z)"
   ]
  },
  {
   "cell_type": "code",
   "execution_count": null,
   "metadata": {},
   "outputs": [],
   "source": [
    "hdbscan_ = hdbscan.HDBSCAN()\n",
    "hdbscan_.fit(Y)\n",
    "\n",
    "hdbscan_.single_linkage_tree_;\n",
    "hdbscan_.children_ = np.array(hdbscan_.single_linkage_tree_.to_pandas()[['left_child','right_child']], dtype=int)"
   ]
  },
  {
   "cell_type": "code",
   "execution_count": null,
   "metadata": {},
   "outputs": [],
   "source": [
    "%%time\n",
    "ances = {}; desc = {}\n",
    "hdbscan_ranking = np.array([get_ranking(hdbscan_,t) for t in range(n)]) # range(n)\n",
    "\n",
    "hdbscan_kt_y = [kendalltau(hdbscan_ranking[i], true_ranking[i]).correlation for i in range(hdbscan_ranking.shape[0])]\n",
    "np.mean(hdbscan_kt_y)"
   ]
  },
  {
   "cell_type": "code",
   "execution_count": null,
   "metadata": {},
   "outputs": [],
   "source": [
    "method_comparison_df['hdbscan_z'] = [np.mean(hdbscan_kt_z),sem(hdbscan_kt_z)]\n",
    "method_comparison_df['hdbscan_y'] = [np.mean(hdbscan_kt_y),sem(hdbscan_kt_y)]"
   ]
  },
  {
   "cell_type": "code",
   "execution_count": null,
   "metadata": {},
   "outputs": [],
   "source": [
    "method_comparison_df.to_csv('method_comparison_df.csv', index=False)"
   ]
  }
 ],
 "metadata": {
  "anaconda-cloud": {},
  "kernelspec": {
   "display_name": "Python 3",
   "language": "python",
   "name": "python3"
  },
  "language_info": {
   "codemirror_mode": {
    "name": "ipython",
    "version": 3
   },
   "file_extension": ".py",
   "mimetype": "text/x-python",
   "name": "python",
   "nbconvert_exporter": "python",
   "pygments_lexer": "ipython3",
   "version": "3.8.5"
  }
 },
 "nbformat": 4,
 "nbformat_minor": 4
}
